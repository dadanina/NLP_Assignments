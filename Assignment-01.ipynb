{
 "cells": [
  {
   "cell_type": "code",
   "execution_count": 1,
   "metadata": {
    "collapsed": true
   },
   "outputs": [],
   "source": [
    "## Lesson-01 Assignment"
   ]
  },
  {
   "cell_type": "markdown",
   "metadata": {},
   "source": [
    ">"
   ]
  },
  {
   "cell_type": "markdown",
   "metadata": {},
   "source": [
    "`各位同学大家好，欢迎各位开始学习我们的人工智能课程。这门课程假设大家不具备机器学习和人工智能的知识，但是希望大家具备初级的Python编程能力。根据往期同学的实际反馈，我们课程的完结之后 能力能够超过80%的计算机人工智能/深度学习方向的硕士生的能力。`"
   ]
  },
  {
   "cell_type": "markdown",
   "metadata": {},
   "source": [
    "## 本次作业的内容"
   ]
  },
  {
   "cell_type": "markdown",
   "metadata": {},
   "source": [
    "#### 1. 复现课堂代码\n",
    "\n",
    "在本部分，你需要参照我们给大家的GitHub地址里边的课堂代码，结合课堂内容，复现内容。"
   ]
  },
  {
   "cell_type": "code",
   "execution_count": 2,
   "metadata": {
    "collapsed": true
   },
   "outputs": [],
   "source": [
    "import random\n",
    "def adj():return random.choice('蓝色的 | 好看的 | 小小的'.split('|')).strip()\n",
    "def adj_star():return random.choice([lambda :'',lambda :adj()+adj_star()])()"
   ]
  },
  {
   "cell_type": "code",
   "execution_count": 7,
   "metadata": {},
   "outputs": [
    {
     "data": {
      "text/plain": [
       "'蓝色的小小的'"
      ]
     },
     "execution_count": 7,
     "metadata": {},
     "output_type": "execute_result"
    }
   ],
   "source": [
    "adj_star()"
   ]
  },
  {
   "cell_type": "code",
   "execution_count": 8,
   "metadata": {
    "collapsed": true
   },
   "outputs": [],
   "source": [
    "adj_grammar = \"\"\"\n",
    "Adj* => null | Adj Adj*\n",
    "Adj =>  蓝色的 | 好看的 | 小小的\n",
    "\"\"\""
   ]
  },
  {
   "cell_type": "code",
   "execution_count": 9,
   "metadata": {
    "collapsed": true
   },
   "outputs": [],
   "source": [
    "def create_grmmar(grammar_rule,split=\"=>\",line_split='\\n'):\n",
    "    grammar={}\n",
    "    for line in grammar_rule.split(line_split):\n",
    "        if not line.strip():continue\n",
    "        exp,stmt=line.split(split)\n",
    "        grammar[exp.strip()]=[s.split() for s in stmt.split('|')]\n",
    "    return grammar"
   ]
  },
  {
   "cell_type": "code",
   "execution_count": 10,
   "metadata": {},
   "outputs": [
    {
     "data": {
      "text/plain": [
       "{'Adj': [['蓝色的'], ['好看的'], ['小小的']], 'Adj*': [['null'], ['Adj', 'Adj*']]}"
      ]
     },
     "execution_count": 10,
     "metadata": {},
     "output_type": "execute_result"
    }
   ],
   "source": [
    "adj_grammar_res=create_grmmar(grammar_rule=adj_grammar)\n",
    "adj_grammar_res"
   ]
  },
  {
   "cell_type": "code",
   "execution_count": 11,
   "metadata": {
    "collapsed": true
   },
   "outputs": [],
   "source": [
    "simple_grammar = \"\"\"\n",
    "sentence => noun_phrase verb_phrase\n",
    "noun_phrase => Article Adj* noun\n",
    "Adj* => null | Adj Adj*\n",
    "verb_phrase => verb noun_phrase\n",
    "Article =>  一个 | 这个\n",
    "noun =>   女人 |  篮球 | 桌子 | 小猫\n",
    "verb => 看着   |  坐在 |  听着 | 看见\n",
    "Adj =>  蓝色的 | 好看的 | 小小的\n",
    "\"\"\""
   ]
  },
  {
   "cell_type": "code",
   "execution_count": 12,
   "metadata": {},
   "outputs": [
    {
     "data": {
      "text/plain": [
       "{'Adj': [['蓝色的'], ['好看的'], ['小小的']],\n",
       " 'Adj*': [['null'], ['Adj', 'Adj*']],\n",
       " 'Article': [['一个'], ['这个']],\n",
       " 'noun': [['女人'], ['篮球'], ['桌子'], ['小猫']],\n",
       " 'noun_phrase': [['Article', 'Adj*', 'noun']],\n",
       " 'sentence': [['noun_phrase', 'verb_phrase']],\n",
       " 'verb': [['看着'], ['坐在'], ['听着'], ['看见']],\n",
       " 'verb_phrase': [['verb', 'noun_phrase']]}"
      ]
     },
     "execution_count": 12,
     "metadata": {},
     "output_type": "execute_result"
    }
   ],
   "source": [
    "example_grammar=create_grmmar(simple_grammar)\n",
    "example_grammar"
   ]
  },
  {
   "cell_type": "code",
   "execution_count": 15,
   "metadata": {
    "collapsed": true
   },
   "outputs": [],
   "source": [
    "def generate(gram,target):\n",
    "    if target not in gram:return target\n",
    "    expaned=[generate(gram,t)  for t in random.choice(gram[target])]\n",
    "    return ''.join([e if e!='/n' else '\\n' for e in expaned if e!='null'])"
   ]
  },
  {
   "cell_type": "code",
   "execution_count": 16,
   "metadata": {},
   "outputs": [
    {
     "data": {
      "text/plain": [
       "'一个小小的蓝色的小小的蓝色的小猫看见一个好看的小小的女人'"
      ]
     },
     "execution_count": 16,
     "metadata": {},
     "output_type": "execute_result"
    }
   ],
   "source": [
    "generate(example_grammar,'sentence')"
   ]
  },
  {
   "cell_type": "code",
   "execution_count": 17,
   "metadata": {
    "collapsed": true
   },
   "outputs": [],
   "source": [
    "#在西部世界里，一个”人类“的语言可以定义为：\n",
    "human = \"\"\"\n",
    "human = 自己 寻找 活动\n",
    "自己 = 我 | 俺 | 我们 \n",
    "寻找 = 找找 | 想找点 \n",
    "活动 = 乐子 | 玩的\n",
    "\"\"\"\n",
    "#一个“接待员”的语言可以定义为\n",
    "host = \"\"\"\n",
    "host = 寒暄 报数 询问 业务相关 结尾 \n",
    "报数 = 我是 数字 号 ,\n",
    "数字 = 单个数字 | 数字 单个数字 \n",
    "单个数字 = 1 | 2 | 3 | 4 | 5 | 6 | 7 | 8 | 9 \n",
    "寒暄 = 称谓 打招呼 | 打招呼\n",
    "称谓 = 人称 ,\n",
    "人称 = 先生 | 女士 | 小朋友\n",
    "打招呼 = 你好 | 您好 \n",
    "询问 = 请问你要 | 您需要\n",
    "业务相关 = 玩玩 具体业务\n",
    "玩玩 = null\n",
    "具体业务 = 喝酒 | 打牌 | 打猎 | 赌博\n",
    "结尾 = 吗？\n",
    "\"\"\""
   ]
  },
  {
   "cell_type": "code",
   "execution_count": 19,
   "metadata": {},
   "outputs": [
    {
     "name": "stdout",
     "output_type": "stream",
     "text": [
      "女士,你好我是8号,请问你要打猎吗？\n",
      "先生,您好我是588543号,您需要打猎吗？\n",
      "女士,你好我是7号,请问你要打牌吗？\n",
      "你好我是2号,请问你要赌博吗？\n",
      "小朋友,你好我是37号,您需要打牌吗？\n",
      "你好我是752号,您需要打牌吗？\n",
      "您好我是7号,请问你要打牌吗？\n",
      "您好我是4798号,请问你要赌博吗？\n",
      "先生,你好我是4号,请问你要打牌吗？\n",
      "先生,你好我是66号,您需要赌博吗？\n"
     ]
    }
   ],
   "source": [
    "for i in range(10):\n",
    "    print(generate(gram=create_grmmar(host,split='='),target='host'))"
   ]
  },
  {
   "cell_type": "markdown",
   "metadata": {},
   "source": [
    "### 概率模型"
   ]
  },
  {
   "cell_type": "code",
   "execution_count": 20,
   "metadata": {
    "collapsed": true
   },
   "outputs": [],
   "source": [
    "import jieba\n",
    "def cut(string):return list(jieba.cut(string))"
   ]
  },
  {
   "cell_type": "code",
   "execution_count": 22,
   "metadata": {},
   "outputs": [
    {
     "name": "stderr",
     "output_type": "stream",
     "text": [
      "Building prefix dict from the default dictionary ...\n",
      "Loading model from cache C:\\Users\\LIUQIO~1\\AppData\\Local\\Temp\\jieba.cache\n"
     ]
    },
    {
     "name": "stdout",
     "output_type": "stream",
     "text": [
      "0\n"
     ]
    },
    {
     "name": "stderr",
     "output_type": "stream",
     "text": [
      "Loading model cost 1.546 seconds.\n",
      "Prefix dict has been built succesfully.\n"
     ]
    },
    {
     "name": "stdout",
     "output_type": "stream",
     "text": [
      "10000\n",
      "20000\n",
      "30000\n",
      "40000\n",
      "50000\n",
      "60000\n",
      "70000\n",
      "80000\n"
     ]
    }
   ],
   "source": [
    "TOKEN=[]\n",
    "for i,line in enumerate((open('article_9k.txt',encoding='utf-8'))):\n",
    "    if i%10000==0:print(i)\n",
    "    if i>100000:break\n",
    "    TOKEN+=cut(line)"
   ]
  },
  {
   "cell_type": "code",
   "execution_count": 23,
   "metadata": {},
   "outputs": [
    {
     "data": {
      "text/plain": [
       "['此外', '自', '本周', '6', '月']"
      ]
     },
     "execution_count": 23,
     "metadata": {},
     "output_type": "execute_result"
    }
   ],
   "source": [
    "TOKEN[:5]"
   ]
  },
  {
   "cell_type": "code",
   "execution_count": 24,
   "metadata": {
    "collapsed": true
   },
   "outputs": [],
   "source": [
    "from collections import Counter\n",
    "words_count=Counter(TOKEN)\n",
    "frequiences=[f for w,f in words_count.most_common(100)]\n",
    "x=[i for i in range(100)]"
   ]
  },
  {
   "cell_type": "code",
   "execution_count": 25,
   "metadata": {
    "scrolled": true
   },
   "outputs": [
    {
     "data": {
      "image/png": "[encoded data removed]",
      "text/plain": [
       "<Figure size 432x288 with 1 Axes>"
      ]
     },
     "metadata": {},
     "output_type": "display_data"
    }
   ],
   "source": [
    "import matplotlib.pyplot as plt\n",
    "plt.plot(x, frequiences)\n",
    "plt.show()"
   ]
  },
  {
   "cell_type": "code",
   "execution_count": 27,
   "metadata": {
    "scrolled": true
   },
   "outputs": [
    {
     "data": {
      "image/png": "[encoded data removed]",
      "text/plain": [
       "<Figure size 432x288 with 1 Axes>"
      ]
     },
     "metadata": {},
     "output_type": "display_data"
    }
   ],
   "source": [
    "import numpy as np\n",
    "plt.plot(x, np.log(frequiences))\n",
    "plt.show()"
   ]
  },
  {
   "cell_type": "code",
   "execution_count": 28,
   "metadata": {
    "collapsed": true
   },
   "outputs": [],
   "source": [
    "def prob_1(word):\n",
    "    return words_count[word]/len(TOKEN)"
   ]
  },
  {
   "cell_type": "code",
   "execution_count": 29,
   "metadata": {},
   "outputs": [
    {
     "data": {
      "text/plain": [
       "(0.0011341645999654677, 0.0006622109092081429, 2.3328077799309737e-05)"
      ]
     },
     "execution_count": 29,
     "metadata": {},
     "output_type": "execute_result"
    }
   ],
   "source": [
    "prob_1('我们'),prob_1('好'),prob_1('开心')"
   ]
  },
  {
   "cell_type": "code",
   "execution_count": 30,
   "metadata": {},
   "outputs": [
    {
     "data": {
      "text/plain": [
       "['此外自', '自本周', '本周6', '6月', '月12', '12日起', '日起除', '除小米', '小米手机', '手机6']"
      ]
     },
     "execution_count": 30,
     "metadata": {},
     "output_type": "execute_result"
    }
   ],
   "source": [
    "TOKEN=[str(t) for t in TOKEN]\n",
    "TOKEN_2_GRAM=[''.join(TOKEN[i:i+2]) for i in range(len(TOKEN[:-2]))]\n",
    "TOKEN_2_GRAM[:10]"
   ]
  },
  {
   "cell_type": "code",
   "execution_count": 31,
   "metadata": {
    "collapsed": true
   },
   "outputs": [],
   "source": [
    "words_count_2=Counter(TOKEN_2_GRAM)"
   ]
  },
  {
   "cell_type": "code",
   "execution_count": 32,
   "metadata": {
    "collapsed": true
   },
   "outputs": [],
   "source": [
    "def prob_2(word1,word2):\n",
    "    if word1+word2 in words_count_2:return words_count_2[word1+word2]/len(TOKEN_2_GRAM)\n",
    "    else:\n",
    "        return 1/len(TOKEN_2_GRAM)"
   ]
  },
  {
   "cell_type": "code",
   "execution_count": 33,
   "metadata": {},
   "outputs": [
    {
     "data": {
      "text/plain": [
       "(3.0536514065072974e-05, 7.946304775297799e-07, 1.5892609550595599e-06)"
      ]
     },
     "execution_count": 33,
     "metadata": {},
     "output_type": "execute_result"
    }
   ],
   "source": [
    "prob_2('我们','在'),prob_2('去','吃饭'),prob_2('看','手机')"
   ]
  },
  {
   "cell_type": "code",
   "execution_count": 34,
   "metadata": {
    "collapsed": true
   },
   "outputs": [],
   "source": [
    "def get_probablity(sentence):\n",
    "    words=cut(sentence)\n",
    "    sentence_pro=1\n",
    "    for i,word in enumerate(words[:-1]):\n",
    "        next_=words[i+1]\n",
    "        probability=prob_2(word,next_)\n",
    "        sentence_pro*=probability\n",
    "    return sentence_pro"
   ]
  },
  {
   "cell_type": "code",
   "execution_count": 35,
   "metadata": {},
   "outputs": [
    {
     "data": {
      "text/plain": [
       "3.6875821834849864e-37"
      ]
     },
     "execution_count": 35,
     "metadata": {},
     "output_type": "execute_result"
    }
   ],
   "source": [
    "get_probablity('我今天买了一台苹果手机')"
   ]
  },
  {
   "cell_type": "code",
   "execution_count": 38,
   "metadata": {},
   "outputs": [
    {
     "name": "stdout",
     "output_type": "stream",
     "text": [
      "sentence: 俺想找点玩的 with Prb: 6.227302750113582e-29\n",
      "sentence: 我想找点玩的 with Prb: 3.045151044805542e-26\n",
      "sentence: 俺找找乐子 with Prb: 1.4628558550905883e-21\n",
      "sentence: 我们找找乐子 with Prb: 7.314279275452941e-21\n",
      "sentence: 我们想找点乐子 with Prb: 1.0605704949406767e-20\n",
      "sentence: 我们想找点乐子 with Prb: 1.0605704949406767e-20\n",
      "sentence: 俺想找点玩的 with Prb: 6.227302750113582e-29\n",
      "sentence: 我找找玩的 with Prb: 1.0710960730195362e-26\n",
      "sentence: 我想找点玩的 with Prb: 3.045151044805542e-26\n",
      "sentence: 俺想找点乐子 with Prb: 1.8285698188632354e-22\n"
     ]
    }
   ],
   "source": [
    "for sen in [generate(gram=create_grmmar(human,split='='),target='human') for i in range(10)]:\n",
    "    print('sentence: {} with Prb: {}'.format(sen, get_probablity(sen)))"
   ]
  },
  {
   "cell_type": "markdown",
   "metadata": {},
   "source": [
    "#### 2. 请回答以下问题\n",
    "\n",
    "回答以下问题，并将问题发送至 mqgao@kaikeba.com中：\n",
    "```\n",
    "    2.1. what do you want to acquire in this course？\n",
    "    2.2. what problems do you want to solve？\n",
    "    2.3. what’s the advantages you have to finish you goal?\n",
    "    2.4. what’s the disadvantages you need to overcome to finish you goal?\n",
    "    2.5. How will you plan to study in this course period?\n",
    "```"
   ]
  },
  {
   "cell_type": "markdown",
   "metadata": {},
   "source": [
    "#### 3. 如何提交\n",
    "代码 + 此 jupyter 相关，提交至自己的 github 中(**所以请务必把GitHub按照班主任要求录入在Trello中**)；\n",
    "第2问，请提交至mqgao@kaikeba.com邮箱。\n",
    "#### 4. 作业截止时间\n",
    "此次作业截止时间为 2019.7.6日"
   ]
  },
  {
   "cell_type": "markdown",
   "metadata": {},
   "source": [
    "#### 5. 完成以下问答和编程练习"
   ]
  },
  {
   "cell_type": "markdown",
   "metadata": {},
   "source": [
    ">"
   ]
  },
  {
   "cell_type": "markdown",
   "metadata": {},
   "source": [
    "## 基础理论部分"
   ]
  },
  {
   "cell_type": "markdown",
   "metadata": {},
   "source": [
    "#### 0. Can you come up out 3 sceneraies which use AI methods? "
   ]
  },
  {
   "cell_type": "markdown",
   "metadata": {},
   "source": [
    "Ans: {自动驾驶、机器人、推荐系统}"
   ]
  },
  {
   "cell_type": "markdown",
   "metadata": {},
   "source": [
    "#### 1. How do we use Github; Why do we use Jupyter and Pycharm;"
   ]
  },
  {
   "cell_type": "markdown",
   "metadata": {},
   "source": [
    "Ans: {如何使用github？这个问题是啥意思？我只会git clone、git add，不会的时候就csdn了 <br>\n",
    "      Jupyter交互的时候比较好 一般做数据清洗和展示 想要看到一步一步的结果就用Jupyter  <br>\n",
    "      做完整的工程还是Pycharm，比较好管理包和文件}"
   ]
  },
  {
   "cell_type": "markdown",
   "metadata": {},
   "source": [
    "#### 2. What's the Probability Model?"
   ]
  },
  {
   "cell_type": "markdown",
   "metadata": {},
   "source": [
    "Ans:概率模型是一种随机现象出现的数学表示，通俗的说就是计算在样本空间内定义的随机事件出现的概率。"
   ]
  },
  {
   "cell_type": "markdown",
   "metadata": {},
   "source": [
    "#### 3. Can you came up with some sceneraies at which we could use Probability Model?"
   ]
  },
  {
   "cell_type": "markdown",
   "metadata": {},
   "source": [
    "Ans:朴素贝叶斯算法、n-gram语言模型、马尔科夫链。"
   ]
  },
  {
   "cell_type": "markdown",
   "metadata": {},
   "source": [
    "#### 4. Why do we use probability and what's the difficult points for programming based on parsing and pattern match?"
   ]
  },
  {
   "cell_type": "markdown",
   "metadata": {},
   "source": [
    "Ans:概率是可以用数学表示和计算的。<br>\n",
    "基于模式匹配的模型在语料库复杂时代码没办法通用化。"
   ]
  },
  {
   "cell_type": "markdown",
   "metadata": {},
   "source": [
    "#### 5. What's the Language Model;"
   ]
  },
  {
   "cell_type": "markdown",
   "metadata": {},
   "source": [
    "Ans:语言模型是词向量的概率分布。给定一个句子，将其看作成一个序列，指定序列出现的概率是序列里每个单词或词组同时出现的概率。"
   ]
  },
  {
   "cell_type": "markdown",
   "metadata": {},
   "source": [
    "#### 6. Can you came up with some sceneraies at which we could use Language Model?\n"
   ]
  },
  {
   "cell_type": "markdown",
   "metadata": {},
   "source": [
    "Ans:语言模型用于词性标注，解析，信息检索等多个场景"
   ]
  },
  {
   "cell_type": "markdown",
   "metadata": {},
   "source": [
    "#### 7. What's the 1-gram language model;"
   ]
  },
  {
   "cell_type": "markdown",
   "metadata": {},
   "source": [
    "Ans:P($w_1$)=count($w_1$)/count(all_doc) <br>\n",
    "P($w_1,w_2,...,w_n$)=P($w_1$)P($w_2$)...P($w_n$)"
   ]
  },
  {
   "cell_type": "markdown",
   "metadata": {},
   "source": [
    "#### 8. What's the disadvantages and advantages of 1-gram language model;"
   ]
  },
  {
   "cell_type": "markdown",
   "metadata": {},
   "source": [
    "Ans:相比于多元语言模型，1元的计算比较简单，但是1-gram认为每个词是相互独立的，这样就没有考虑到词与词即上下文关系。"
   ]
  },
  {
   "cell_type": "markdown",
   "metadata": {},
   "source": [
    "#### 9. What't the 2-gram models;"
   ]
  },
  {
   "cell_type": "markdown",
   "metadata": {},
   "source": [
    "Ans:2元语言模型假设下一个词出现只依赖于它前面的一个词 <br>\n",
    "P($w_1,w_2,...,w_n$)=P($w_1$)P($w_2|w_1$)P($w_3|w_2$)...P($w_n|w_{n-1}$)"
   ]
  },
  {
   "cell_type": "markdown",
   "metadata": {},
   "source": [
    "## 编程实践部分"
   ]
  },
  {
   "cell_type": "markdown",
   "metadata": {},
   "source": [
    "#### 1. 设计你自己的句子生成器"
   ]
  },
  {
   "cell_type": "markdown",
   "metadata": {},
   "source": [
    "如何生成句子是一个很经典的问题，从1940s开始，图灵提出机器智能的时候，就使用的是人类能不能流畅和计算机进行对话。和计算机对话的一个前提是，计算机能够生成语言。\n",
    "\n",
    "计算机如何能生成语言是一个经典但是又很复杂的问题。 我们课程上为大家介绍的是一种基于规则（Rule Based）的生成方法。该方法虽然提出的时间早，但是现在依然在很多地方能够大显身手。值得说明的是，现在很多很实用的算法，都是很久之前提出的，例如，二分查找提出与1940s, Dijstra算法提出于1960s 等等。"
   ]
  },
  {
   "cell_type": "markdown",
   "metadata": {},
   "source": [
    "在著名的电视剧，电影《西部世界》中，这些机器人们语言生成的方法就是使用的SyntaxTree生成语言的方法。\n",
    "\n",
    "> \n",
    ">\n",
    "\n",
    "![WstWorld](https://timgsa.baidu.com/timg?image&quality=80&size=b10000_10000&sec=1561818705&di=95ca9ff2ff37fcb88ae47b82c7079feb&src=http://s7.sinaimg.cn/mw690/006BKUGwzy75VK46FMi66&690)\n",
    "\n",
    "> \n",
    ">"
   ]
  },
  {
   "cell_type": "markdown",
   "metadata": {},
   "source": [
    "在这一部分，需要各位同学首先定义自己的语言。 大家可以先想一个应用场景，然后在这个场景下，定义语法。例如：\n",
    "\n",
    "在西部世界里，一个”人类“的语言可以定义为：\n",
    "``` \n",
    "human = \"\"\"\n",
    "human = 自己 寻找 活动\n",
    "自己 = 我 | 俺 | 我们 \n",
    "寻找 = 看看 | 找找 | 想找点\n",
    "活动 = 乐子 | 玩的\n",
    "\"\"\"\n",
    "```\n",
    "\n",
    "一个“接待员”的语言可以定义为\n",
    "```\n",
    "host = \"\"\"\n",
    "host = 寒暄 报数 询问 业务相关 结尾 \n",
    "报数 = 我是 数字 号 ,\n",
    "数字 = 单个数字 | 数字 单个数字 \n",
    "单个数字 = 1 | 2 | 3 | 4 | 5 | 6 | 7 | 8 | 9 \n",
    "寒暄 = 称谓 打招呼 | 打招呼\n",
    "称谓 = 人称 ,\n",
    "人称 = 先生 | 女士 | 小朋友\n",
    "打招呼 = 你好 | 您好 \n",
    "询问 = 请问你要 | 您需要\n",
    "业务相关 = 玩玩 具体业务\n",
    "玩玩 = 耍一耍 | 玩一玩\n",
    "具体业务 = 喝酒 | 打牌 | 打猎 | 赌博\n",
    "结尾 = 吗？\"\"\"\n",
    "\n",
    "```\n",
    "\n",
    "\n"
   ]
  },
  {
   "cell_type": "markdown",
   "metadata": {},
   "source": [
    "请定义你自己的语法: "
   ]
  },
  {
   "cell_type": "markdown",
   "metadata": {},
   "source": [
    "第一个语法："
   ]
  },
  {
   "cell_type": "code",
   "execution_count": 39,
   "metadata": {
    "collapsed": true
   },
   "outputs": [],
   "source": [
    "tourist = '''\n",
    "tourist = 人物 在 场地 玩 游乐设施 。\n",
    "人物 = 小朋友 | 学生 | 大人 | 老人\n",
    "在  =  正在 | 去\n",
    "场地 = 尖叫地带 | 水世界 | 欢乐世界 | 动物世界\n",
    "玩 = 坐 | 看 | 耍 |享受\n",
    "游乐设施 = 海盗船 | 过山车 | 大象 | 飞跃地平线\n",
    "'''"
   ]
  },
  {
   "cell_type": "markdown",
   "metadata": {},
   "source": [
    "第二个语法："
   ]
  },
  {
   "cell_type": "code",
   "execution_count": 40,
   "metadata": {
    "collapsed": true
   },
   "outputs": [],
   "source": [
    "程序员 = '''\n",
    "programer= 程序员 在写 程序 。\n",
    "程序员 = 语言类型  程序员性别\n",
    "程序员 = Java | Python |C++ | PHP\n",
    "程序员性别 = 程序猿 | 程序媛\n",
    "在写= 在飞速码 | 躺尸码 | 垃圾桶上码\n",
    "程序= 识别手机壳颜色软件 | 翻译算法 | 推荐系统\n",
    "'''"
   ]
  },
  {
   "cell_type": "code",
   "execution_count": 97,
   "metadata": {
    "collapsed": true
   },
   "outputs": [],
   "source": [
    "保险咨询 = '''\n",
    "insurance= 保险对象 法律规则 保险类型 疑问\n",
    "保险对象 = 小孩 | 老人 | 旅游者 | 家庭\n",
    "法律规则 = 可以 | 有权 | 是否 | 停止 | 动作\n",
    "动作= 参加 | 参与 | 有\n",
    "保险类型= 生命险 | 财产险 | 车险 | 租赁险\n",
    "疑问 = 吗？ | 什么 |\n",
    "'''"
   ]
  },
  {
   "cell_type": "markdown",
   "metadata": {},
   "source": [
    "TODO: 然后，使用自己之前定义的generate函数，使用此函数生成句子。"
   ]
  },
  {
   "cell_type": "markdown",
   "metadata": {},
   "source": [
    "TODO: 然后，定义一个函数，generate_n，将generate扩展，使其能够生成n个句子:"
   ]
  },
  {
   "cell_type": "code",
   "execution_count": 46,
   "metadata": {
    "collapsed": true
   },
   "outputs": [],
   "source": [
    "def generate_n(gram,target,n):\n",
    "    res=[]\n",
    "    def generate(gram,target):\n",
    "        if target not in gram:return target\n",
    "        expaned=[generate(gram,t) for t in random.choice(gram[target])]\n",
    "        return ''.join([e if e!='/n' else '\\n' for e in expaned if e!='null'])\n",
    "    for i in range(n):\n",
    "        res.append(generate(gram=create_grmmar(grammar_rule=gram,split='='),target=target)) \n",
    "    return res    "
   ]
  },
  {
   "cell_type": "code",
   "execution_count": 47,
   "metadata": {},
   "outputs": [
    {
     "data": {
      "text/plain": [
       "['大人正在欢乐世界看海盗船。',\n",
       " '老人正在水世界看飞跃地平线。',\n",
       " '大人去尖叫地带享受飞跃地平线。',\n",
       " '小朋友正在欢乐世界坐飞跃地平线。',\n",
       " '学生去尖叫地带看大象。']"
      ]
     },
     "execution_count": 47,
     "metadata": {},
     "output_type": "execute_result"
    }
   ],
   "source": [
    "generate_n(tourist,'tourist',5)"
   ]
  },
  {
   "cell_type": "markdown",
   "metadata": {},
   "source": [
    ">"
   ]
  },
  {
   "cell_type": "markdown",
   "metadata": {},
   "source": [
    "#### 2. 使用新数据源完成语言模型的训练"
   ]
  },
  {
   "cell_type": "markdown",
   "metadata": {},
   "source": [
    "按照我们上文中定义的`prob_2`函数，我们更换一个文本数据源，获得新的Language Model:\n",
    "\n",
    "1. 下载文本数据集（你可以在以下数据集中任选一个，也可以两个都使用）\n",
    "    + 可选数据集1，保险行业问询对话集： https://github.com/Computing-Intelligence/insuranceqa-corpus-zh/raw/release/corpus/pool/train.txt.gz\n",
    "    + 可选数据集2：豆瓣评论数据集：https://github.com/Computing-Intelligence/datasource/raw/master/movie_comments.csv\n",
    "2. 修改代码，获得新的**2-gram**语言模型\n",
    "    + 进行文本清洗，获得所有的纯文本\n",
    "    + 将这些文本进行切词\n",
    "    + 送入之前定义的语言模型中，判断文本的合理程度"
   ]
  },
  {
   "cell_type": "code",
   "execution_count": 61,
   "metadata": {},
   "outputs": [],
   "source": [
    "f=open('train.txt',encoding='utf-8')\n",
    "train=f.read()"
   ]
  },
  {
   "cell_type": "code",
   "execution_count": 81,
   "metadata": {
    "collapsed": true
   },
   "outputs": [
    {
     "data": {
      "text/plain": [
       "['法律',\n",
       " '要求',\n",
       " '残疾',\n",
       " '保险',\n",
       " '吗',\n",
       " '债权人',\n",
       " '可以',\n",
       " '在',\n",
       " '死',\n",
       " '后',\n",
       " '人寿保险',\n",
       " '吗',\n",
       " '旅行者',\n",
       " '保险',\n",
       " '有',\n",
       " '租赁',\n",
       " '保险',\n",
       " '吗',\n",
       " '我',\n",
       " '可以',\n",
       " '开',\n",
       " '一辆',\n",
       " '没有',\n",
       " '保险',\n",
       " '的',\n",
       " '新车',\n",
       " '吗',\n",
       " '人寿保险',\n",
       " '的',\n",
       " '现金',\n",
       " '转',\n",
       " '出',\n",
       " '价值',\n",
       " '是否',\n",
       " '应',\n",
       " '纳税',\n",
       " '如何',\n",
       " '报告',\n",
       " '年',\n",
       " '金',\n",
       " '收入',\n",
       " '家庭',\n",
       " '保险',\n",
       " '涵盖',\n",
       " '什么',\n",
       " '什么',\n",
       " '是',\n",
       " '简单',\n",
       " '的',\n",
       " '退休',\n",
       " '计划',\n",
       " '社会保险',\n",
       " '残疾',\n",
       " '保险',\n",
       " '是',\n",
       " '什么',\n",
       " '汽车保险',\n",
       " '是否',\n",
       " '预付',\n",
       " '医疗保险',\n",
       " '部分',\n",
       " '盖',\n",
       " '什么',\n",
       " '退伍军人',\n",
       " '能否',\n",
       " '获得',\n",
       " '人寿保险',\n",
       " '我',\n",
       " '的',\n",
       " '房主',\n",
       " '保险',\n",
       " '是否',\n",
       " '包括',\n",
       " '失去',\n",
       " '的',\n",
       " '结婚戒指',\n",
       " '分配',\n",
       " '风险',\n",
       " '汽车保险',\n",
       " '如何',\n",
       " '工作',\n",
       " '我',\n",
       " '的',\n",
       " '男朋友',\n",
       " '可以',\n",
       " '加',\n",
       " '我',\n",
       " '的',\n",
       " '汽车保险',\n",
       " '吗',\n",
       " '我',\n",
       " '是否',\n",
       " '需要',\n",
       " '提交',\n",
       " '私人',\n",
       " '财产',\n",
       " '车祸',\n",
       " '索赔',\n",
       " '的',\n",
       " '警察',\n",
       " '报告',\n",
       " '全',\n",
       " '覆盖',\n",
       " '汽车保险',\n",
       " '盖',\n",
       " '修理',\n",
       " '人生',\n",
       " '在',\n",
       " '伊斯兰教',\n",
       " '中',\n",
       " '是否',\n",
       " '可以',\n",
       " '接受',\n",
       " '健康',\n",
       " '保险',\n",
       " '是否',\n",
       " '覆盖',\n",
       " '管道',\n",
       " '逆转',\n",
       " '如果',\n",
       " '您',\n",
       " '已经',\n",
       " '诊断',\n",
       " '为',\n",
       " '乳腺癌',\n",
       " '您',\n",
       " '可以',\n",
       " '获得',\n",
       " '多大',\n",
       " '的',\n",
       " '人寿保险',\n",
       " '我',\n",
       " '需要',\n",
       " '注册',\n",
       " '医疗保险',\n",
       " '短期',\n",
       " '残疾',\n",
       " '保险',\n",
       " '是否',\n",
       " '工作',\n",
       " '房主',\n",
       " '保险',\n",
       " '盖池',\n",
       " '什么',\n",
       " '时候',\n",
       " '要',\n",
       " '注册',\n",
       " '医疗保险',\n",
       " '会',\n",
       " '影响',\n",
       " '我',\n",
       " '的',\n",
       " '汽车保险',\n",
       " '吗',\n",
       " '蓝',\n",
       " '十字',\n",
       " '蓝盾',\n",
       " '有',\n",
       " '人寿保险',\n",
       " '吗',\n",
       " '长期',\n",
       " '护理',\n",
       " '保险',\n",
       " '的',\n",
       " '优点',\n",
       " '和',\n",
       " '缺点',\n",
       " '是',\n",
       " '什么',\n",
       " '医疗保险',\n",
       " '支付',\n",
       " '生命',\n",
       " '预警',\n",
       " '我',\n",
       " '应该',\n",
       " '买',\n",
       " '哪种',\n",
       " '人寿',\n",
       " '医疗保险',\n",
       " '支付',\n",
       " '筛查',\n",
       " '吗',\n",
       " '哪个',\n",
       " '是',\n",
       " '最好',\n",
       " '的',\n",
       " '人寿保险',\n",
       " '长期',\n",
       " '护理',\n",
       " '保险费用',\n",
       " '多少',\n",
       " '固定',\n",
       " '年',\n",
       " '金',\n",
       " '如何',\n",
       " '安全',\n",
       " '要',\n",
       " '解决',\n",
       " '人寿保险',\n",
       " '索赔',\n",
       " '需要',\n",
       " '多长时间',\n",
       " '是否',\n",
       " '检查',\n",
       " '汽车保险',\n",
       " '信贷',\n",
       " '我',\n",
       " '可以',\n",
       " '使用',\n",
       " '支付',\n",
       " '长期',\n",
       " '护理',\n",
       " '保险',\n",
       " '吗',\n",
       " '雇主',\n",
       " '可以',\n",
       " '向',\n",
       " '吸烟者',\n",
       " '收取',\n",
       " '更',\n",
       " '多',\n",
       " '健康',\n",
       " '保险费',\n",
       " '吗',\n",
       " '房屋',\n",
       " '所有权',\n",
       " '保险',\n",
       " '通常',\n",
       " '覆盖',\n",
       " '什么',\n",
       " '没有',\n",
       " '健康',\n",
       " '保险',\n",
       " '的',\n",
       " '超声波',\n",
       " '成本',\n",
       " '是',\n",
       " '多少',\n",
       " '什么',\n",
       " '是',\n",
       " '年期',\n",
       " '人寿保险',\n",
       " '你',\n",
       " '可以',\n",
       " '把',\n",
       " '钱',\n",
       " '放在',\n",
       " '一个',\n",
       " '和',\n",
       " '一个',\n",
       " '我',\n",
       " '可以',\n",
       " '用',\n",
       " '丙型肝炎',\n",
       " '保险',\n",
       " '吗',\n",
       " '什么',\n",
       " '时候',\n",
       " '可以',\n",
       " '注册',\n",
       " '医疗保险',\n",
       " '部分',\n",
       " '健康',\n",
       " '保险',\n",
       " '何时',\n",
       " '起源',\n",
       " '医疗保险',\n",
       " '有',\n",
       " '多',\n",
       " '重要',\n",
       " '租用',\n",
       " '保险费用',\n",
       " '多少',\n",
       " '我',\n",
       " '的',\n",
       " '家庭',\n",
       " '保险',\n",
       " '是否',\n",
       " '覆盖',\n",
       " '盗窃',\n",
       " '租户',\n",
       " '保险',\n",
       " '如何',\n",
       " '受益',\n",
       " '业主',\n",
       " '俄亥俄州',\n",
       " '雇主',\n",
       " '是否',\n",
       " '必须',\n",
       " '提供',\n",
       " '健康',\n",
       " '保险',\n",
       " '我',\n",
       " '应该',\n",
       " '有',\n",
       " '多少',\n",
       " '汽车保险',\n",
       " '为什么',\n",
       " '房主',\n",
       " '保险',\n",
       " '增加',\n",
       " '谁',\n",
       " '能',\n",
       " '买',\n",
       " '医保',\n",
       " '如何',\n",
       " '清除',\n",
       " '部分',\n",
       " '在',\n",
       " '什么',\n",
       " '年龄',\n",
       " '我',\n",
       " '应该',\n",
       " '得到',\n",
       " '长期',\n",
       " '护理',\n",
       " '保险',\n",
       " '人寿保险',\n",
       " '死亡',\n",
       " '福利',\n",
       " '是否',\n",
       " '应',\n",
       " '纳税',\n",
       " '什么',\n",
       " '是',\n",
       " '医疗',\n",
       " '储蓄',\n",
       " '计划',\n",
       " '房主',\n",
       " '保险',\n",
       " '是否',\n",
       " '向',\n",
       " '其他',\n",
       " '狗盖',\n",
       " '狗',\n",
       " '叮咬',\n",
       " '医疗保险',\n",
       " '计划',\n",
       " '盖',\n",
       " '什么',\n",
       " '全',\n",
       " '人寿保险',\n",
       " '是',\n",
       " '一个',\n",
       " '好',\n",
       " '的',\n",
       " '选择',\n",
       " '吗',\n",
       " '雇主',\n",
       " '可以',\n",
       " '提供',\n",
       " '不同',\n",
       " '数额',\n",
       " '的',\n",
       " '健康',\n",
       " '保险',\n",
       " '吗',\n",
       " '将来',\n",
       " '会',\n",
       " '发生',\n",
       " '什么',\n",
       " '医疗保险',\n",
       " '一般',\n",
       " '人寿保险',\n",
       " '我',\n",
       " '的',\n",
       " '汽车保险',\n",
       " '是否',\n",
       " '会',\n",
       " '如果',\n",
       " '得到',\n",
       " '机票',\n",
       " '呢',\n",
       " '租客',\n",
       " '保险',\n",
       " '是否',\n",
       " '包括',\n",
       " '盗窃',\n",
       " '什么',\n",
       " '是',\n",
       " '租赁',\n",
       " '保险',\n",
       " '如何',\n",
       " '计算',\n",
       " '家庭',\n",
       " '保险',\n",
       " '房主',\n",
       " '保险',\n",
       " '是否',\n",
       " '覆盖',\n",
       " '下水道',\n",
       " '维修',\n",
       " '是否',\n",
       " '有',\n",
       " '长期',\n",
       " '护理',\n",
       " '保险',\n",
       " '短期',\n",
       " '残疾',\n",
       " '考虑',\n",
       " '健康',\n",
       " '保险',\n",
       " '吗',\n",
       " '在',\n",
       " '什么',\n",
       " '年龄',\n",
       " '你',\n",
       " '应该',\n",
       " '得到',\n",
       " '人寿保险',\n",
       " '旅行者',\n",
       " '家庭',\n",
       " '保险',\n",
       " '好',\n",
       " '吗',\n",
       " '谁',\n",
       " '能',\n",
       " '得到',\n",
       " '医疗保险',\n",
       " '谁',\n",
       " '有',\n",
       " '最',\n",
       " '优惠',\n",
       " '的',\n",
       " '租金',\n",
       " '保险费率',\n",
       " '谁',\n",
       " '能',\n",
       " '驾驶',\n",
       " '你',\n",
       " '的',\n",
       " '车',\n",
       " '在',\n",
       " '你',\n",
       " '的',\n",
       " '保险',\n",
       " '医疗保险',\n",
       " '可以',\n",
       " '支付',\n",
       " '养老院',\n",
       " '吗',\n",
       " '如果',\n",
       " '汽车保险',\n",
       " '失败',\n",
       " '会',\n",
       " '发生',\n",
       " '什么',\n",
       " '车库',\n",
       " '门',\n",
       " '由',\n",
       " '房主',\n",
       " '保险',\n",
       " '覆盖',\n",
       " '我',\n",
       " '在',\n",
       " '哪里',\n",
       " '注册',\n",
       " '医疗保险',\n",
       " '如何',\n",
       " '获得',\n",
       " '汽车保险',\n",
       " '最佳',\n",
       " '交易',\n",
       " '在',\n",
       " '新泽西州',\n",
       " '如何',\n",
       " '申请',\n",
       " '哪家',\n",
       " '公司',\n",
       " '提供',\n",
       " '最佳',\n",
       " '租赁',\n",
       " '保险',\n",
       " '全',\n",
       " '人寿保险',\n",
       " '有',\n",
       " '哪些',\n",
       " '特点',\n",
       " '什么',\n",
       " '是',\n",
       " '年',\n",
       " '金种',\n",
       " '现金流',\n",
       " '可以',\n",
       " '在',\n",
       " '乳腺癌',\n",
       " '后',\n",
       " '获得',\n",
       " '人身保险',\n",
       " '吗',\n",
       " '如何',\n",
       " '找出',\n",
       " '多少',\n",
       " '汽车保险',\n",
       " '呢',\n",
       " '如何',\n",
       " '计划',\n",
       " '退休',\n",
       " '与',\n",
       " '什么',\n",
       " '是',\n",
       " '不',\n",
       " '符合',\n",
       " '奥巴马',\n",
       " '的',\n",
       " '健康',\n",
       " '保险',\n",
       " '的',\n",
       " '税收',\n",
       " '减免',\n",
       " '你',\n",
       " '能',\n",
       " '失去',\n",
       " '医疗',\n",
       " '福利',\n",
       " '吗',\n",
       " '房主',\n",
       " '保险',\n",
       " '是否',\n",
       " '会',\n",
       " '损失',\n",
       " '钻石',\n",
       " '长期',\n",
       " '护理',\n",
       " '保险费用',\n",
       " '多少',\n",
       " '何时',\n",
       " '应该',\n",
       " '停止',\n",
       " '支付',\n",
       " '人寿保险',\n",
       " '你',\n",
       " '去',\n",
       " '医疗保险',\n",
       " '什么',\n",
       " '年龄',\n",
       " '人寿保险',\n",
       " '公司',\n",
       " '如何',\n",
       " '吸烟',\n",
       " '如何',\n",
       " '确定',\n",
       " '您',\n",
       " '是否',\n",
       " '需要',\n",
       " '长期',\n",
       " '护理',\n",
       " '保险',\n",
       " '谁',\n",
       " '制造',\n",
       " '汽车保险',\n",
       " '什么',\n",
       " '时候',\n",
       " '应该',\n",
       " '得到',\n",
       " '期限',\n",
       " '人寿保险',\n",
       " '信用',\n",
       " '与',\n",
       " '汽车保险',\n",
       " '有',\n",
       " '什么',\n",
       " '关系',\n",
       " '家庭',\n",
       " '保险',\n",
       " '是否',\n",
       " '支付',\n",
       " '屋顶',\n",
       " '更换',\n",
       " '谁',\n",
       " '拥有',\n",
       " '最好',\n",
       " '和',\n",
       " '最',\n",
       " '便宜',\n",
       " '的',\n",
       " '汽车保险',\n",
       " '你',\n",
       " '能',\n",
       " '租',\n",
       " '汽车保险',\n",
       " '吗',\n",
       " '房主',\n",
       " '保险',\n",
       " '涵盖',\n",
       " '什么',\n",
       " '我',\n",
       " '可以',\n",
       " '为',\n",
       " '我',\n",
       " '母亲',\n",
       " '购买',\n",
       " '长期',\n",
       " '护理',\n",
       " '保险',\n",
       " '吗',\n",
       " '什么',\n",
       " '是',\n",
       " '完全',\n",
       " '实行',\n",
       " '人寿保险',\n",
       " '我',\n",
       " '可以',\n",
       " '得到',\n",
       " '高血压',\n",
       " '的',\n",
       " '人寿保险',\n",
       " '吗',\n",
       " '如何',\n",
       " '找到',\n",
       " '好',\n",
       " '的',\n",
       " '租客',\n",
       " '保险',\n",
       " '什么',\n",
       " '是',\n",
       " '考虑',\n",
       " '用于',\n",
       " '保险',\n",
       " '目的',\n",
       " '的',\n",
       " '跑车',\n",
       " '家庭',\n",
       " '保险',\n",
       " '涵盖',\n",
       " '什么',\n",
       " '为什么',\n",
       " '现在',\n",
       " '重新',\n",
       " '计划',\n",
       " '退休',\n",
       " '为什么',\n",
       " '要',\n",
       " '为',\n",
       " '汽车保险',\n",
       " '付钱',\n",
       " '移动',\n",
       " '家庭',\n",
       " '保险',\n",
       " '如何',\n",
       " '便宜',\n",
       " '可以',\n",
       " '在',\n",
       " '乳腺癌',\n",
       " '后',\n",
       " '获得',\n",
       " '人身保险',\n",
       " '吗',\n",
       " '多少',\n",
       " '人',\n",
       " '使用',\n",
       " '残疾',\n",
       " '保险',\n",
       " '您',\n",
       " '的',\n",
       " '汽车保险',\n",
       " '涵盖',\n",
       " '谁',\n",
       " '什么',\n",
       " '是',\n",
       " '计划',\n",
       " '如何',\n",
       " '增加',\n",
       " '健康',\n",
       " '保险',\n",
       " '长期',\n",
       " '残疾',\n",
       " '保险',\n",
       " '多久',\n",
       " '全',\n",
       " '人寿保险',\n",
       " '不好',\n",
       " '吗',\n",
       " '犹他州',\n",
       " '的',\n",
       " '平均',\n",
       " '车险',\n",
       " '是',\n",
       " '多少',\n",
       " '伟大',\n",
       " '的',\n",
       " '西方',\n",
       " '人寿',\n",
       " '是否',\n",
       " '涵盖',\n",
       " '旅游',\n",
       " '保险',\n",
       " '定期',\n",
       " '人寿保险',\n",
       " '在',\n",
       " '特定',\n",
       " '年龄',\n",
       " '结束',\n",
       " '吗',\n",
       " '房主',\n",
       " '保险',\n",
       " '是否',\n",
       " '覆盖',\n",
       " '火器',\n",
       " '共同',\n",
       " '基金',\n",
       " '的',\n",
       " '资产',\n",
       " '净值',\n",
       " '是',\n",
       " '多少',\n",
       " '哪些',\n",
       " '国家',\n",
       " '有',\n",
       " '最好',\n",
       " '的',\n",
       " '健康',\n",
       " '保险',\n",
       " '为什么',\n",
       " '重要',\n",
       " '计划',\n",
       " '退休',\n",
       " '多少',\n",
       " '残疾',\n",
       " '保险',\n",
       " '足够',\n",
       " '了',\n",
       " '骑手',\n",
       " '在',\n",
       " '人寿保险',\n",
       " '中',\n",
       " '意味着',\n",
       " '什么',\n",
       " '你',\n",
       " '为',\n",
       " '长期',\n",
       " '护理',\n",
       " '保险',\n",
       " '支付',\n",
       " '多少',\n",
       " '钱',\n",
       " '我',\n",
       " '可以',\n",
       " '要求',\n",
       " '什么',\n",
       " '租客',\n",
       " '保险',\n",
       " '健康',\n",
       " '保险',\n",
       " '额定值',\n",
       " '是',\n",
       " '多少',\n",
       " '你',\n",
       " '如何',\n",
       " '计算',\n",
       " '人寿保险',\n",
       " '的',\n",
       " '期望',\n",
       " '回报',\n",
       " '没有',\n",
       " '驾照',\n",
       " '吗',\n",
       " '什么',\n",
       " '时候',\n",
       " '是',\n",
       " '符合',\n",
       " '医疗保险',\n",
       " '部分',\n",
       " '的',\n",
       " '人',\n",
       " '汽车保险',\n",
       " '是',\n",
       " '联邦',\n",
       " '要求',\n",
       " '吗',\n",
       " '你',\n",
       " '能',\n",
       " '得到',\n",
       " '不良',\n",
       " '信用',\n",
       " '的',\n",
       " '汽车保险',\n",
       " '吗',\n",
       " '适用',\n",
       " '于',\n",
       " '人寿保险',\n",
       " '公司',\n",
       " '吗',\n",
       " '后',\n",
       " '汽车',\n",
       " '保险费用',\n",
       " '多少',\n",
       " '购买',\n",
       " '家庭',\n",
       " '时',\n",
       " '多少',\n",
       " '保险',\n",
       " '什么',\n",
       " '是',\n",
       " '政策',\n",
       " '租客',\n",
       " '保险',\n",
       " '是否',\n",
       " '涵盖',\n",
       " '失去',\n",
       " '的',\n",
       " '订婚戒指',\n",
       " '覆盖',\n",
       " '全国',\n",
       " '租赁',\n",
       " '保险',\n",
       " '多少',\n",
       " '谁',\n",
       " '卖出',\n",
       " '抵押',\n",
       " '人寿保险',\n",
       " '我',\n",
       " '的',\n",
       " '人寿保险',\n",
       " '是否',\n",
       " '覆盖',\n",
       " '跳伞',\n",
       " '健康',\n",
       " '保险',\n",
       " '是否',\n",
       " '覆盖',\n",
       " '皮肤',\n",
       " '清除',\n",
       " '手术',\n",
       " '没有',\n",
       " '健康',\n",
       " '保险',\n",
       " '的',\n",
       " '皮肤科',\n",
       " '医生',\n",
       " '花费',\n",
       " '多少',\n",
       " '钱',\n",
       " '在',\n",
       " '哪里',\n",
       " '得到',\n",
       " '健康',\n",
       " '保险',\n",
       " '与',\n",
       " '预先',\n",
       " '存在',\n",
       " '的',\n",
       " '条件',\n",
       " '是否',\n",
       " '卖',\n",
       " '人寿保险',\n",
       " '联邦政府',\n",
       " '是否',\n",
       " '有',\n",
       " '残疾',\n",
       " '保险',\n",
       " '什么',\n",
       " '是',\n",
       " '人寿保险',\n",
       " '股',\n",
       " '残疾人',\n",
       " '保险',\n",
       " '在',\n",
       " '平均水平',\n",
       " '上',\n",
       " '有',\n",
       " '多',\n",
       " '大',\n",
       " '你',\n",
       " '可以',\n",
       " '提交',\n",
       " '人寿保险',\n",
       " '吗',\n",
       " '人寿保险',\n",
       " '是否',\n",
       " '考虑',\n",
       " '收入',\n",
       " '什么',\n",
       " '时候',\n",
       " '应该',\n",
       " '得到',\n",
       " '残疾',\n",
       " '保险',\n",
       " '租金',\n",
       " '保险费用',\n",
       " '多少',\n",
       " '新罕布什尔州',\n",
       " '是否',\n",
       " '需要',\n",
       " '汽车保险',\n",
       " '您',\n",
       " '的',\n",
       " '工资',\n",
       " '有',\n",
       " '多少',\n",
       " '由',\n",
       " '残疾',\n",
       " '保险',\n",
       " '承担',\n",
       " '哪个',\n",
       " '药店',\n",
       " '接受',\n",
       " '医疗保险',\n",
       " '需要',\n",
       " '多长时间',\n",
       " '才能',\n",
       " '获得',\n",
       " '汽车保险',\n",
       " '什么',\n",
       " '是',\n",
       " '医疗保险',\n",
       " '如何',\n",
       " '确定',\n",
       " '期限',\n",
       " '人寿保险',\n",
       " '的',\n",
       " '现金',\n",
       " '价值',\n",
       " '人寿保险',\n",
       " '为',\n",
       " '您',\n",
       " '的',\n",
       " '葬礼',\n",
       " '付钱',\n",
       " '吗',\n",
       " '你',\n",
       " '的',\n",
       " '健康',\n",
       " '保险',\n",
       " '可以',\n",
       " '让',\n",
       " '孩子',\n",
       " '多久',\n",
       " '健康',\n",
       " '保险',\n",
       " '税',\n",
       " '何时',\n",
       " '可以',\n",
       " '扣除',\n",
       " '对',\n",
       " '可变',\n",
       " '年金',\n",
       " '说',\n",
       " '什么',\n",
       " '可以',\n",
       " '用',\n",
       " '支付',\n",
       " '健康',\n",
       " '保险费',\n",
       " '吗',\n",
       " '沃尔玛',\n",
       " '是否',\n",
       " '接受',\n",
       " '医疗保险',\n",
       " '汽车保险',\n",
       " '可以',\n",
       " '转移',\n",
       " '吗',\n",
       " '什么',\n",
       " '是',\n",
       " '保险',\n",
       " '没有',\n",
       " '工作',\n",
       " '可以',\n",
       " '得到',\n",
       " '汽车保险',\n",
       " '吗',\n",
       " '你',\n",
       " '经常',\n",
       " '支付',\n",
       " '健康',\n",
       " '保险',\n",
       " '吗',\n",
       " '受益人',\n",
       " '何时',\n",
       " '收到',\n",
       " '人寿保险',\n",
       " '如果',\n",
       " '我',\n",
       " '没有',\n",
       " '汽车保险',\n",
       " '我',\n",
       " '可以',\n",
       " '租车',\n",
       " '吗',\n",
       " '医疗保险',\n",
       " '支付',\n",
       " '救护车',\n",
       " '吗',\n",
       " '何时',\n",
       " '需要',\n",
       " '家庭',\n",
       " '保修',\n",
       " '保险',\n",
       " '家庭',\n",
       " '保险',\n",
       " '是否',\n",
       " '覆盖',\n",
       " '您',\n",
       " '的',\n",
       " '烟囱',\n",
       " '我',\n",
       " '需要',\n",
       " '多少',\n",
       " '人寿保险',\n",
       " ...]"
      ]
     },
     "execution_count": 81,
     "metadata": {},
     "output_type": "execute_result"
    }
   ],
   "source": [
    "text=[]\n",
    "qa=train.split('++$++')\n",
    "for s in qa:\n",
    "    text+=cut(s)\n",
    "corpa=[w for w in text if not (w<u'\\u4e00' or w>u'\\u9fff')]\n",
    "corpa"
   ]
  },
  {
   "cell_type": "code",
   "execution_count": 82,
   "metadata": {
    "scrolled": true
   },
   "outputs": [
    {
     "data": {
      "text/plain": [
       "[('保险', 5013),\n",
       " ('的', 3220),\n",
       " ('人寿保险', 2962),\n",
       " ('什么', 2677),\n",
       " ('吗', 2479),\n",
       " ('是', 2344),\n",
       " ('我', 2053),\n",
       " ('是否', 1862),\n",
       " ('可以', 1704),\n",
       " ('健康', 1513)]"
      ]
     },
     "execution_count": 82,
     "metadata": {},
     "output_type": "execute_result"
    }
   ],
   "source": [
    "phases_counts=Counter(corpa)\n",
    "phases_counts.most_common(10)"
   ]
  },
  {
   "cell_type": "code",
   "execution_count": 83,
   "metadata": {
    "scrolled": true
   },
   "outputs": [
    {
     "data": {
      "text/plain": [
       "['法律要求', '要求残疾', '残疾保险', '保险吗', '吗债权人', '债权人可以', '可以在', '在死', '死后', '后人寿保险']"
      ]
     },
     "execution_count": 83,
     "metadata": {},
     "output_type": "execute_result"
    }
   ],
   "source": [
    "phase_2_gram=[''.join(corpa[i:i+2]) for i in range(len(corpa[:-2]))]\n",
    "phase_2_gram[:10]"
   ]
  },
  {
   "cell_type": "code",
   "execution_count": 84,
   "metadata": {
    "collapsed": true
   },
   "outputs": [],
   "source": [
    "phases_counts_2=Counter(phase_2_gram)"
   ]
  },
  {
   "cell_type": "code",
   "execution_count": 86,
   "metadata": {},
   "outputs": [],
   "source": [
    "def prob_1(word):\n",
    "    return phases_count[word]/len(corpa)\n",
    "def prob_2(word1,word2):\n",
    "    if word1+word2 in phases_counts_2:return phases_counts_2[word1+word2]/len(phase_2_gram)\n",
    "    else:\n",
    "        return 1/len(phase_2_gram)"
   ]
  },
  {
   "cell_type": "code",
   "execution_count": 88,
   "metadata": {},
   "outputs": [
    {
     "data": {
      "text/plain": [
       "(9.417589366196236e-05, 1.3453699094566052e-05, 0.0025158417306838515)"
      ]
     },
     "execution_count": 88,
     "metadata": {},
     "output_type": "execute_result"
    }
   ],
   "source": [
    "prob_2('法律','要求'),prob_2('参加','保险'),prob_2('可以','在')"
   ]
  },
  {
   "cell_type": "code",
   "execution_count": 89,
   "metadata": {},
   "outputs": [
    {
     "name": "stdout",
     "output_type": "stream",
     "text": [
      "sentence: 大人正在欢乐世界坐飞跃地平线。 with Prb: 7.977962124799542e-35\n",
      "sentence: 大人去欢乐世界坐飞跃地平线。 with Prb: 7.977962124799542e-35\n",
      "sentence: 学生去尖叫地带耍海盗船。 with Prb: 5.929939467742251e-30\n",
      "sentence: 老人去尖叫地带看海盗船。 with Prb: 5.929939467742251e-30\n",
      "sentence: 大人去水世界看大象。 with Prb: 5.929939467742251e-30\n"
     ]
    }
   ],
   "source": [
    "for sen in generate_n(tourist,'tourist',5):\n",
    "    print('sentence: {} with Prb: {}'.format(sen, get_probablity(sen)))"
   ]
  },
  {
   "cell_type": "markdown",
   "metadata": {},
   "source": [
    "> "
   ]
  },
  {
   "cell_type": "markdown",
   "metadata": {},
   "source": [
    "#### 3. 获得最优质的的语言"
   ]
  },
  {
   "cell_type": "markdown",
   "metadata": {},
   "source": [
    "当我们能够生成随机的语言并且能判断之后，我们就可以生成更加合理的语言了。请定义 generate_best 函数，该函数输入一个语法 + 语言模型，能够生成**n**个句子，并能选择一个最合理的句子: \n",
    "\n"
   ]
  },
  {
   "cell_type": "markdown",
   "metadata": {},
   "source": [
    "提示，要实现这个函数，你需要Python的sorted函数"
   ]
  },
  {
   "cell_type": "code",
   "execution_count": 90,
   "metadata": {},
   "outputs": [
    {
     "data": {
      "text/plain": [
       "[1, 2, 3, 5]"
      ]
     },
     "execution_count": 90,
     "metadata": {},
     "output_type": "execute_result"
    }
   ],
   "source": [
    "sorted([1, 3, 5, 2])"
   ]
  },
  {
   "cell_type": "markdown",
   "metadata": {},
   "source": [
    "这个函数接受一个参数key，这个参数接受一个函数作为输入，例如"
   ]
  },
  {
   "cell_type": "code",
   "execution_count": 91,
   "metadata": {},
   "outputs": [
    {
     "data": {
      "text/plain": [
       "[(1, 4), (2, 5), (4, 4), (5, 0)]"
      ]
     },
     "execution_count": 91,
     "metadata": {},
     "output_type": "execute_result"
    }
   ],
   "source": [
    "sorted([(2, 5), (1, 4), (5, 0), (4, 4)], key=lambda x: x[0])"
   ]
  },
  {
   "cell_type": "markdown",
   "metadata": {},
   "source": [
    "能够让list按照第0个元素进行排序."
   ]
  },
  {
   "cell_type": "code",
   "execution_count": 92,
   "metadata": {},
   "outputs": [
    {
     "data": {
      "text/plain": [
       "[(5, 0), (1, 4), (4, 4), (2, 5)]"
      ]
     },
     "execution_count": 92,
     "metadata": {},
     "output_type": "execute_result"
    }
   ],
   "source": [
    "sorted([(2, 5), (1, 4), (5, 0), (4, 4)], key=lambda x: x[1])"
   ]
  },
  {
   "cell_type": "markdown",
   "metadata": {},
   "source": [
    "能够让list按照第1个元素进行排序."
   ]
  },
  {
   "cell_type": "code",
   "execution_count": 93,
   "metadata": {},
   "outputs": [
    {
     "data": {
      "text/plain": [
       "[(2, 5), (1, 4), (4, 4), (5, 0)]"
      ]
     },
     "execution_count": 93,
     "metadata": {},
     "output_type": "execute_result"
    }
   ],
   "source": [
    "sorted([(2, 5), (1, 4), (5, 0), (4, 4)], key=lambda x: x[1], reverse=True)"
   ]
  },
  {
   "cell_type": "markdown",
   "metadata": {},
   "source": [
    "能够让list按照第1个元素进行排序, 但是是递减的顺序。"
   ]
  },
  {
   "cell_type": "markdown",
   "metadata": {},
   "source": [
    ">"
   ]
  },
  {
   "cell_type": "code",
   "execution_count": 107,
   "metadata": {},
   "outputs": [],
   "source": [
    "def generate_best(grammar_rule,target,n): # you code here\n",
    "    sentences=generate_n(grammar_rule,target,n)\n",
    "    res=[]\n",
    "    for sen in sentences:\n",
    "        res.append((sen,get_probablity(sen)))\n",
    "    b_res=sorted(res,key=lambda x:x[1],reverse=True)\n",
    "    print(b_res)\n",
    "    return b_res[0]"
   ]
  },
  {
   "cell_type": "code",
   "execution_count": 109,
   "metadata": {},
   "outputs": [
    {
     "name": "stdout",
     "output_type": "stream",
     "text": [
      "[('家庭参加财产险', 1.810020193271274e-10), ('家庭停止车险什么', 2.4351467035360007e-15), ('旅游者停止生命险', 2.4351467035360007e-15), ('小孩停止车险什么', 2.4351467035360007e-15), ('老人有权生命险', 2.4351467035360007e-15), ('老人是否生命险', 2.4351467035360007e-15), ('老人有权生命险什么', 3.2761731000497796e-20), ('旅游者参与生命险吗？', 4.4076647069781375e-25), ('老人有权生命险吗？', 4.4076647069781375e-25), ('小孩可以租赁险吗？', 4.4076647069781375e-25)]\n"
     ]
    },
    {
     "data": {
      "text/plain": [
       "('家庭参加财产险', 1.810020193271274e-10)"
      ]
     },
     "execution_count": 109,
     "metadata": {},
     "output_type": "execute_result"
    }
   ],
   "source": [
    "generate_best(保险咨询,'insurance',10)"
   ]
  },
  {
   "cell_type": "markdown",
   "metadata": {},
   "source": [
    "好了，现在我们实现了自己的第一个AI模型，这个模型能够生成比较接近于人类的语言。"
   ]
  },
  {
   "cell_type": "markdown",
   "metadata": {},
   "source": [
    ">"
   ]
  },
  {
   "cell_type": "markdown",
   "metadata": {},
   "source": [
    "Q: 这个模型有什么问题？ 你准备如何提升？ "
   ]
  },
  {
   "cell_type": "markdown",
   "metadata": {},
   "source": [
    "Ans:<br>\n",
    "1 特定的语料库对应特点的生成语言模型，一般不能通用。生成的句子类型也比较单一，如果想要更加丰富的句子，只能更改语法规则。<br>\n",
    "2 二元模型考虑的上下文关系不够充分，更高元模型又增加了计算量。<br>\n",
    "3 可以考虑用更大的语料库，比如维基百科，新闻周刊等。"
   ]
  },
  {
   "cell_type": "markdown",
   "metadata": {},
   "source": [
    ">"
   ]
  },
  {
   "cell_type": "markdown",
   "metadata": {},
   "source": [
    "##### 以下内容为可选部分，对于绝大多数同学，能完成以上的项目已经很优秀了，下边的内容如果你还有精力可以试试，但不是必须的。"
   ]
  },
  {
   "cell_type": "markdown",
   "metadata": {},
   "source": [
    "#### 4. (Optional) 完成基于Pattern Match的语句问答\n",
    "> 我们的GitHub仓库中，有一个assignment-01-optional-pattern-match，这个难度较大，感兴趣的同学可以挑战一下。"
   ]
  },
  {
   "cell_type": "markdown",
   "metadata": {},
   "source": [
    "\n",
    "#### 5. (Optional) 完成阿兰图灵机器智能原始论文的阅读\n",
    "1. 请阅读阿兰图灵关于机器智能的原始论文：https://github.com/Computing-Intelligence/References/blob/master/AI%20%26%20Machine%20Learning/Computer%20Machinery%20and%20Intelligence.pdf \n",
    "2. 并按照GitHub仓库中的论文阅读模板，填写完毕后发送给我: mqgao@kaikeba.com 谢谢"
   ]
  },
  {
   "cell_type": "markdown",
   "metadata": {},
   "source": [
    "> "
   ]
  },
  {
   "cell_type": "markdown",
   "metadata": {},
   "source": [
    "各位同学，我们已经完成了自己的第一个AI模型，大家对人工智能可能已经有了一些感觉，人工智能的核心就是，我们如何设计一个模型、程序，在外部的输入变化的时候，我们的程序不变，依然能够解决问题。人工智能是一个很大的领域，目前大家所熟知的深度学习只是其中一小部分，之后也肯定会有更多的方法提出来，但是大家知道人工智能的目标，就知道了之后进步的方向。"
   ]
  },
  {
   "cell_type": "markdown",
   "metadata": {},
   "source": [
    "然后，希望大家对AI不要有恐惧感，这个并不难，大家加油！"
   ]
  },
  {
   "cell_type": "markdown",
   "metadata": {},
   "source": [
    ">"
   ]
  },
  {
   "cell_type": "markdown",
   "metadata": {},
   "source": [
    "![](https://timgsa.baidu.com/timg?image&quality=80&size=b9999_10000&sec=1561828422005&di=48d19c16afb6acc9180183a6116088ac&imgtype=0&src=http%3A%2F%2Fb-ssl.duitang.com%2Fuploads%2Fitem%2F201807%2F28%2F20180728150843_BECNF.thumb.224_0.jpeg)"
   ]
  }
 ],
 "metadata": {
  "kernelspec": {
   "display_name": "Python 3",
   "language": "python",
   "name": "python3"
  },
  "language_info": {
   "codemirror_mode": {
    "name": "ipython",
    "version": 3
   },
   "file_extension": ".py",
   "mimetype": "text/x-python",
   "name": "python",
   "nbconvert_exporter": "python",
   "pygments_lexer": "ipython3",
   "version": "3.6.7"
  }
 },
 "nbformat": 4,
 "nbformat_minor": 2
}
